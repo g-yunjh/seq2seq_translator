{
  "nbformat": 4,
  "nbformat_minor": 0,
  "metadata": {
    "colab": {
      "provenance": [],
      "mount_file_id": "1tIhKb0gG1MP0i1rm7_qZEhGM5IWGHTyZ",
      "authorship_tag": "ABX9TyPU+VZC1+B4h2GgydqjJgrd"
    },
    "kernelspec": {
      "name": "python3",
      "display_name": "Python 3"
    },
    "language_info": {
      "name": "python"
    }
  },
  "cells": [
    {
      "cell_type": "markdown",
      "source": [
        "# 5주차: 자신의 데이터를 활용한 지도학습 및 비지도학습 모델 구현\n",
        "---\n",
        "## 보고서: 한문고전번역 모델 구현\n",
        "\n",
        "### 1. **소개**\n",
        "\n",
        "이 보고서는 한문 고전 문서를 번역하기 위한 모델 구현 과정을 설명합니다. 본 과제에서는 문서 전처리와 `seq2seq` 모델을 사용한 지도학습 기반 번역 모델을 개발하였으며, 이후 비지도 학습 기법을 활용하여 모델 개선을 시도했습니다. 비지도 학습의 주요 내용으로는 TF-IDF 벡터화와 클러스터링을 포함하고 있습니다.\n",
        "\n",
        "### 2. **데이터 전처리**\n",
        "\n",
        "#### 2.1 데이터 로딩 및 전처리\n",
        "\n",
        "- **데이터 로딩**: 데이터셋을 로드한 후, 한문 고전 문서들의 텍스트 데이터를 학습에 사용할 수 있게 변환하였습니다.\n",
        "- **변환 과정**:\n",
        "  - 이미 이전 차시에서 결측치 처리와 토큰화를 진행한 후, 저장한 데이터를 로드하였기에 별도의 전처리 과정은 거치지 않고, 토큰화된 단어 리스트를 하나의 문장으로 변환해주었습니다.\n",
        "\n",
        "#### 2.2 `seq2seq` 모델 개발\n",
        "\n",
        "- **모델 설계**: 입력 시퀀스를 받아 출력 시퀀스를 생성하는 `seq2seq` 모델을 설계하였습니다. 이 모델은 인코더와 디코더로 구성되며, 문장 단위의 번역을 목표로 하였습니다.\n",
        "우선, 데이터를 학습 데이터와 테스트 데이터로 분리하였습니다(9:1). 학습 시간의 문제와 문법적 난이도를 고려하여 길이가 5이하인 짧은 문장들만 추려 학습을 진행하였습니다.\n",
        "- **모델 학습**: 준비된 데이터로 모델을 학습시켰습니다. 학습 과정에서 하이퍼파라미터 조정과 모델 튜닝을 수행하였으나, 결과적으로 모델의 번역 정확도가 기대에 미치지 못하였습니다. 아래는 모델이 번역해준 한 문장 예시입니다.\n",
        "```\n",
        "> 庚 寅 氷\n",
        "= 얼음 이 얼었다\n",
        "< 가 큰 청나라 <EOS>\n",
        "```\n",
        "\n",
        "### 3. **모델 평가**\n",
        "\n",
        "모델의 성능을 평가하기 위해, 어텐션 메커니즘을 사용한 시각화를 통해 입력 문장의 각 단어에 대한 모델의 주의 집중도를 측정하였습니다. 어텐션 시각화 결과 대부분의 값이 0.2 이하로 나타나, 모델이 입력 문장의 특정 단어에 충분한 주의를 기울이지 못했음을 확인할 수 있었습니다.\n",
        "\n",
        "해당 부분에 대해서는 학습 과정의 문제보다는 한문이라는 언어의 특성 때문이라고 생각되어, 최종논문의 실패 요인 분석으로 자세하게 다룰 예정입니다.\n",
        "\n",
        "### 4. **비지도 학습 적용**\n",
        "\n",
        "#### 4.1 TF-IDF 벡터화\n",
        "\n",
        "- **TF-IDF 변환**: 전처리된 문서들을 TF-IDF 벡터로 변환하였습니다. TF-IDF 벡터화는 각 문서의 중요 단어를 수치적으로 표현하여, 문서 간의 유사성을 분석할 수 있게 합니다.\n",
        "- **행렬 생성**: TF-IDF 행렬의 크기는 (1022162, 346378)으로, 매우 희소한 행렬이 생성되었습니다.\n",
        "\n",
        "#### 4.2 클러스터링\n",
        "\n",
        "- **클러스터링 기법**: TF-IDF 벡터를 기반으로 K-means 클러스터링을 수행하여 문서들을 여러 개의 클러스터로 그룹화하였습니다.\n",
        "- **클러스터 분석**: 클러스터별로 상위 단어를 추출하여 각 클러스터의 주요 주제를 파악하였습니다. 예를 들어, 클러스터 1은 '전망', '단자', '차하' 등의 단어가 포함된 문서들로 구성되었으며, 이는 특정 주제나 문서 유형을 반영할 수 있습니다.\n",
        "\n",
        "#### 4.3 비지도 학습과 번역 모델 개선의 연관성\n",
        "\n",
        "비지도 학습은 번역 모델 개선에 다음과 같은 방식으로 기여할 수 있습니다:\n",
        "\n",
        "1. **데이터 분류**: 클러스터링을 통해 문서들을 주제별로 그룹화함으로써, 각 클러스터에 특화된 번역 모델을 학습시킬 수 있습니다. 이는 모델이 특정 주제의 문맥을 더 잘 이해하고 번역할 수 있도록 도와줍니다.\n",
        "2. **문맥 인식**: 클러스터링된 데이터를 활용해 번역 모델이 문맥에 따라 적절한 번역을 생성할 수 있도록 돕습니다. 주제별 특성을 반영한 학습은 자연스러운 번역을 가능하게 합니다.\n",
        "3. **오류 분석 및 개선**: 특정 클러스터에서 발생하는 번역 오류를 분석하고, 이를 기반으로 모델의 약점을 보완하는 데 활용할 수 있습니다.\n",
        "\n",
        "### 5. **결론 및 향후 작업**\n",
        "\n",
        "#### 5.1 결론\n",
        "\n",
        "- `seq2seq` 모델을 사용한 한문 고전 문서 번역의 정확도가 낮았으나, 데이터 전처리와 모델 설계 과정에서 유의미한 경험을 얻었습니다.\n",
        "- 비지도 학습 기법인 TF-IDF 벡터화와 클러스터링을 통해 문서의 주요 주제를 분석하고, 번역 모델 개선에 필요한 인사이트를 제공할 수 있었습니다.\n",
        "\n",
        "#### 5.2 향후 작업\n",
        "\n",
        "- **모델 개선**: `seq2seq` 모델의 성능을 개선하기 위해 다양한 기법을 시도하고, 데이터 증강과 하이퍼파라미터 최적화를 통해 모델을 재훈련할 필요가 있습니다.\n",
        "- **비지도 학습의 활용**: 클러스터링 결과를 활용하여 도메인 특화된 번역 모델을 개발하거나, 군집화된 데이터로 추가적인 학습을 진행할 수 있습니다.\n",
        "\n"
      ],
      "metadata": {
        "id": "vq45V_MVnH9j"
      }
    },
    {
      "cell_type": "code",
      "execution_count": null,
      "metadata": {
        "id": "ExxZBjEdxn4g"
      },
      "outputs": [],
      "source": [
        "from __future__ import unicode_literals, print_function, division\n",
        "from io import open\n",
        "import unicodedata\n",
        "import re\n",
        "import random\n",
        "\n",
        "import torch\n",
        "import torch.nn as nn\n",
        "from torch import optim\n",
        "import torch.nn.functional as F\n",
        "\n",
        "import numpy as np\n",
        "from torch.utils.data import TensorDataset, DataLoader, RandomSampler\n",
        "\n",
        "device = torch.device(\"cuda\" if torch.cuda.is_available() else \"cpu\")"
      ]
    },
    {
      "cell_type": "code",
      "source": [
        "import os\n",
        "import pandas as pd\n",
        "\n",
        "# 경로 설정\n",
        "path = '/content/drive/MyDrive/hanja_korean_dataset/token'\n",
        "\n",
        "# 폴더 내 모든 parquet 파일 불러오기\n",
        "parquet_files = [file for file in os.listdir(path) if file.endswith('.parquet')]\n",
        "\n",
        "# 데이터프레임 리스트 초기화\n",
        "dfs = []\n",
        "\n",
        "# 각 parquet 파일을 데이터프레임으로 읽어서 리스트에 추가\n",
        "for file in parquet_files:\n",
        "    file_path = os.path.join(path, file)\n",
        "    df = pd.read_parquet(file_path)\n",
        "    dfs.append(df)\n",
        "\n",
        "# 모든 데이터프레임을 하나로 합치기\n",
        "merged_df = pd.concat(dfs, ignore_index=True)"
      ],
      "metadata": {
        "id": "586CR6CJx63e"
      },
      "execution_count": null,
      "outputs": []
    },
    {
      "cell_type": "code",
      "source": [
        "df = merged_df\n",
        "print(df)"
      ],
      "metadata": {
        "id": "7PPLkds4x7f-",
        "colab": {
          "base_uri": "https://localhost:8080/"
        },
        "outputId": "a5ff81a0-53b8-4083-da1c-8060ef6063e1"
      },
      "execution_count": null,
      "outputs": [
        {
          "output_type": "stream",
          "name": "stdout",
          "text": [
            "                                                     hanja  \\\n",
            "0        [兵, 批, 參, 議, 崔, 尙, 儒, 進, 以, 韓, 啓, 宇, 爲, 盆, 山, ...   \n",
            "1        [吏, 曹, 啓, 目, 前, 五, 衛, 將, 朴, 枝, 藩, 名, 字, 改, 以, ...   \n",
            "2                           [上, 在, 景, 福, 宮, 停, 常, 參, 經, 筵]   \n",
            "3        [奎, 章, 閣, 啓, 曰, 檢, 書, 官, 李, 冕, 翼, 有, 身, 病, 勢, ...   \n",
            "4        [禮, 曹, 啓, 曰, 郊, 壇, 四, 孟, 朔, 遣, 禮, 郞, 看, 審, 有, ...   \n",
            "...                                                    ...   \n",
            "1022157  [義, 禁, 府, 啓, 曰, 戊, 子, 十, 一, 月, 二, 十, 二, 日, 前, ...   \n",
            "1022158                     [上, 在, 昌, 德, 宮, 停, 常, 參, 經, 筵]   \n",
            "1022159   [申, 時, 太, 白, 見, 於, 未, 地, 夜, 一, 更, 至, 四, 更, 月, 暈]   \n",
            "1022160  [大, 司, 憲, 金, 南, 重, 執, 義, 柳, 慶, 昌, 掌, 令, 申, 悅, ...   \n",
            "1022161  [政, 院, 啓, 曰, 勅, 使, 接, 見, 時, 酬, 酢, 說, 話, 依, 前, ...   \n",
            "\n",
            "                                                    korean  \n",
            "0        [병비, 에, 참의, 최상, 유, 는, 나왔다, 한계, 우, 를, 분산, 별장, 으...  \n",
            "1        [이조, 계목, 에전, 오, 위장, 박지, 번, 이, 이름, 을, 형진, 으로, 출...  \n",
            "2                 [상이, 경복궁, 에, 있었다, 상, 참과, 경연, 을, 정지, 하였다]  \n",
            "3        [규장각, 이, 아뢰, 기를, 검, 서관, 이면, 익, 이, 신병이, 있어서, 직임...  \n",
            "4        [예조, 가, 아뢰, 기를, 교단, 에, 사맹삭, 마다, 예조, 낭청, 을, 보내어...  \n",
            "...                                                    ...  \n",
            "1022157  [의금부, 가, 아뢰, 기를, 무자년, 1648, 인조, 26, 11월, 22일, ...  \n",
            "1022158           [상이, 창덕궁, 에, 있었다, 상, 참과, 경연, 을, 정지, 하였다]  \n",
            "1022159  [신시, 에, 태백성, 이, 미지, 에, 나타났다, 밤, 1, 경, 부터, 4, 경...  \n",
            "1022160  [대사헌, 김남중, 집의, 유경, 창, 장령, 신열, 도, ㆍ, 신속, 지평, 이수...  \n",
            "1022161  [비변사, 가, 아뢰, 기를, 정원, 이, 아뢰, 기를, 칙사, 를, 접견, 하실,...  \n",
            "\n",
            "[1022162 rows x 2 columns]\n"
          ]
        }
      ]
    },
    {
      "cell_type": "code",
      "source": [
        "# 한문과 한글 리스트를 공백으로 구분된 문자열로 변환\n",
        "df['hanja'] = df['hanja'].apply(lambda x: ' '.join(x))\n",
        "df['korean'] = df['korean'].apply(lambda x: ' '.join(x))\n",
        "\n",
        "# 변환된 결과 확인\n",
        "print(df['hanja'].head())\n",
        "print(df['korean'].head())"
      ],
      "metadata": {
        "id": "uVue7BNUyD53",
        "colab": {
          "base_uri": "https://localhost:8080/"
        },
        "outputId": "305543a1-fe44-4277-b247-77c15a1a05d0"
      },
      "execution_count": null,
      "outputs": [
        {
          "output_type": "stream",
          "name": "stdout",
          "text": [
            "0                    兵 批 參 議 崔 尙 儒 進 以 韓 啓 宇 爲 盆 山 別 將\n",
            "1    吏 曹 啓 目 前 五 衛 將 朴 枝 藩 名 字 改 以 瀅 鎭 出 身 姜 斗 鍵 名 ...\n",
            "2                                  上 在 景 福 宮 停 常 參 經 筵\n",
            "3    奎 章 閣 啓 曰 檢 書 官 李 冕 翼 有 身 病 勢 難 供 職 減 下 其 代 以 ...\n",
            "4    禮 曹 啓 曰 郊 壇 四 孟 朔 遣 禮 郞 看 審 有 無 頉 自 該 曹 草 記 事 ...\n",
            "Name: hanja, dtype: object\n",
            "0               병비 에 참의 최상 유 는 나왔다 한계 우 를 분산 별장 으로 삼았다\n",
            "1    이조 계목 에전 오 위장 박지 번 이 이름 을 형진 으로 출신 강 두건 이 이름 을...\n",
            "2                        상이 경복궁 에 있었다 상 참과 경연 을 정지 하였다\n",
            "3    규장각 이 아뢰 기를 검 서관 이면 익 이 신병이 있어서 직임 을 수행 하기 어려운...\n",
            "4    예조 가 아뢰 기를 교단 에 사맹삭 마다 예조 낭청 을 보내어 탈 이 있는지를 간 ...\n",
            "Name: korean, dtype: object\n"
          ]
        }
      ]
    },
    {
      "cell_type": "code",
      "source": [
        "SOS_token = 0\n",
        "EOS_token = 1\n",
        "\n",
        "class Lang:\n",
        "    def __init__(self, name):\n",
        "        self.name = name\n",
        "        self.word2index = {}\n",
        "        self.word2count = {}\n",
        "        self.index2word = {0: \"SOS\", 1: \"EOS\"}\n",
        "        self.n_words = 2  # Count SOS and EOS\n",
        "\n",
        "    def addSentence(self, sentence):\n",
        "        for word in sentence.split(' '):\n",
        "            self.addWord(word)\n",
        "\n",
        "    def addWord(self, word):\n",
        "        if word not in self.word2index:\n",
        "            self.word2index[word] = self.n_words\n",
        "            self.word2count[word] = 1\n",
        "            self.index2word[self.n_words] = word\n",
        "            self.n_words += 1\n",
        "        else:\n",
        "            self.word2count[word] += 1"
      ],
      "metadata": {
        "id": "eZTysulFycCy"
      },
      "execution_count": null,
      "outputs": []
    },
    {
      "cell_type": "code",
      "source": [
        "def readLangs(df, lang1_col, lang2_col, reverse=False):\n",
        "    print(\"Reading lines from DataFrame...\")\n",
        "\n",
        "    # DataFrame에서 문장 쌍 추출\n",
        "    pairs = list(zip(df[lang1_col], df[lang2_col]))\n",
        "\n",
        "    # Reverse pairs, make Lang instances\n",
        "    if reverse:\n",
        "        pairs = [list(reversed(p)) for p in pairs]\n",
        "        input_lang = Lang(lang2_col)\n",
        "        output_lang = Lang(lang1_col)\n",
        "    else:\n",
        "        input_lang = Lang(lang1_col)\n",
        "        output_lang = Lang(lang2_col)\n",
        "\n",
        "    return input_lang, output_lang, pairs"
      ],
      "metadata": {
        "id": "pNc6lPHl9QFU"
      },
      "execution_count": null,
      "outputs": []
    },
    {
      "cell_type": "code",
      "source": [
        "MAX_LENGTH = 5\n",
        "\n",
        "def filterPair(p):\n",
        "    return len(p[0].split(' ')) < MAX_LENGTH and \\\n",
        "        len(p[1].split(' ')) < MAX_LENGTH\n",
        "\n",
        "def filterPairs(pairs):\n",
        "    return [pair for pair in pairs if filterPair(pair)]"
      ],
      "metadata": {
        "id": "pggvJL1uTWCx"
      },
      "execution_count": null,
      "outputs": []
    },
    {
      "cell_type": "code",
      "source": [
        "# 데이터 준비 함수\n",
        "def prepareData(df, lang1_col, lang2_col, reverse=False):\n",
        "    # readLangs 함수를 호출하여 언어 및 쌍 데이터 추출\n",
        "    input_lang, output_lang, pairs = readLangs(df, lang1_col, lang2_col, reverse)\n",
        "    print(\"Read %s sentence pairs\" % len(pairs))\n",
        "    pairs = filterPairs(pairs)\n",
        "    print(\"Trimmed to %s sentence pairs\" % len(pairs))\n",
        "\n",
        "    # 쌍 데이터에서 단어 세기\n",
        "    print(\"Counting words...\")\n",
        "    for pair in pairs:\n",
        "        input_lang.addSentence(pair[0])\n",
        "        output_lang.addSentence(pair[1])\n",
        "\n",
        "    print(\"Counted words:\")\n",
        "    print(input_lang.name, input_lang.n_words)\n",
        "    print(output_lang.name, output_lang.n_words)\n",
        "\n",
        "    return input_lang, output_lang, pairs\n",
        "\n",
        "# 데이터 준비\n",
        "input_lang, output_lang, pairs = prepareData(df, 'korean', 'hanja', True)\n",
        "\n",
        "# 무작위로 쌍 데이터 출력\n",
        "print(random.choice(pairs))"
      ],
      "metadata": {
        "id": "337eCKsDzVsg",
        "colab": {
          "base_uri": "https://localhost:8080/"
        },
        "outputId": "e3fad139-4e59-4edf-9c79-0af52e1af61c"
      },
      "execution_count": null,
      "outputs": [
        {
          "output_type": "stream",
          "name": "stdout",
          "text": [
            "Reading lines from DataFrame...\n",
            "Read 1022162 sentence pairs\n",
            "Trimmed to 20091 sentence pairs\n",
            "Counting words...\n",
            "Counted words:\n",
            "hanja 418\n",
            "korean 541\n",
            "['聽 輪 對', '윤대 를 들었다']\n"
          ]
        }
      ]
    },
    {
      "cell_type": "code",
      "source": [
        "class EncoderRNN(nn.Module):\n",
        "    def __init__(self, input_size, hidden_size, dropout_p=0.1):\n",
        "        super(EncoderRNN, self).__init__()\n",
        "        self.hidden_size = hidden_size\n",
        "\n",
        "        self.embedding = nn.Embedding(input_size, hidden_size)\n",
        "        self.gru = nn.GRU(hidden_size, hidden_size, batch_first=True)\n",
        "        self.dropout = nn.Dropout(dropout_p)\n",
        "\n",
        "    def forward(self, input):\n",
        "        embedded = self.dropout(self.embedding(input))\n",
        "        output, hidden = self.gru(embedded)\n",
        "        return output, hidden"
      ],
      "metadata": {
        "id": "CJIPKtFG1Ryh"
      },
      "execution_count": null,
      "outputs": []
    },
    {
      "cell_type": "code",
      "source": [
        "class DecoderRNN(nn.Module):\n",
        "    def __init__(self, hidden_size, output_size):\n",
        "        super(DecoderRNN, self).__init__()\n",
        "        self.embedding = nn.Embedding(output_size, hidden_size)\n",
        "        self.gru = nn.GRU(hidden_size, hidden_size, batch_first=True)\n",
        "        self.out = nn.Linear(hidden_size, output_size)\n",
        "\n",
        "    def forward(self, encoder_outputs, encoder_hidden, target_tensor=None):\n",
        "        batch_size = encoder_outputs.size(0)\n",
        "        decoder_input = torch.empty(batch_size, 1, dtype=torch.long, device=device).fill_(SOS_token)\n",
        "        decoder_hidden = encoder_hidden\n",
        "        decoder_outputs = []\n",
        "\n",
        "        for i in range(MAX_LENGTH):\n",
        "            decoder_output, decoder_hidden  = self.forward_step(decoder_input, decoder_hidden)\n",
        "            decoder_outputs.append(decoder_output)\n",
        "\n",
        "            if target_tensor is not None:\n",
        "                # Teacher forcing: Feed the target as the next input\n",
        "                decoder_input = target_tensor[:, i].unsqueeze(1) # Teacher forcing\n",
        "            else:\n",
        "                # Without teacher forcing: use its own predictions as the next input\n",
        "                _, topi = decoder_output.topk(1)\n",
        "                decoder_input = topi.squeeze(-1).detach()  # detach from history as input\n",
        "\n",
        "        decoder_outputs = torch.cat(decoder_outputs, dim=1)\n",
        "        decoder_outputs = F.log_softmax(decoder_outputs, dim=-1)\n",
        "        return decoder_outputs, decoder_hidden, None # We return `None` for consistency in the training loop\n",
        "\n",
        "    def forward_step(self, input, hidden):\n",
        "        output = self.embedding(input)\n",
        "        output = F.relu(output)\n",
        "        output, hidden = self.gru(output, hidden)\n",
        "        output = self.out(output)\n",
        "        return output, hidden"
      ],
      "metadata": {
        "id": "pYSxA3b514xZ"
      },
      "execution_count": null,
      "outputs": []
    },
    {
      "cell_type": "code",
      "source": [
        "class BahdanauAttention(nn.Module):\n",
        "    def __init__(self, hidden_size):\n",
        "        super(BahdanauAttention, self).__init__()\n",
        "        self.Wa = nn.Linear(hidden_size, hidden_size)\n",
        "        self.Ua = nn.Linear(hidden_size, hidden_size)\n",
        "        self.Va = nn.Linear(hidden_size, 1)\n",
        "\n",
        "    def forward(self, query, keys):\n",
        "        scores = self.Va(torch.tanh(self.Wa(query) + self.Ua(keys)))\n",
        "        scores = scores.squeeze(2).unsqueeze(1)\n",
        "\n",
        "        weights = F.softmax(scores, dim=-1)\n",
        "        context = torch.bmm(weights, keys)\n",
        "\n",
        "        return context, weights\n",
        "\n",
        "class AttnDecoderRNN(nn.Module):\n",
        "    def __init__(self, hidden_size, output_size, dropout_p=0.1):\n",
        "        super(AttnDecoderRNN, self).__init__()\n",
        "        self.embedding = nn.Embedding(output_size, hidden_size)\n",
        "        self.attention = BahdanauAttention(hidden_size)\n",
        "        self.gru = nn.GRU(2 * hidden_size, hidden_size, batch_first=True)\n",
        "        self.out = nn.Linear(hidden_size, output_size)\n",
        "        self.dropout = nn.Dropout(dropout_p)\n",
        "\n",
        "    def forward(self, encoder_outputs, encoder_hidden, target_tensor=None):\n",
        "        batch_size = encoder_outputs.size(0)\n",
        "        decoder_input = torch.empty(batch_size, 1, dtype=torch.long, device=device).fill_(SOS_token)\n",
        "        decoder_hidden = encoder_hidden\n",
        "        decoder_outputs = []\n",
        "        attentions = []\n",
        "\n",
        "        for i in range(MAX_LENGTH):\n",
        "            decoder_output, decoder_hidden, attn_weights = self.forward_step(\n",
        "                decoder_input, decoder_hidden, encoder_outputs\n",
        "            )\n",
        "            decoder_outputs.append(decoder_output)\n",
        "            attentions.append(attn_weights)\n",
        "\n",
        "            if target_tensor is not None:\n",
        "                # Teacher forcing: Feed the target as the next input\n",
        "                decoder_input = target_tensor[:, i].unsqueeze(1) # Teacher forcing\n",
        "            else:\n",
        "                # Without teacher forcing: use its own predictions as the next input\n",
        "                _, topi = decoder_output.topk(1)\n",
        "                decoder_input = topi.squeeze(-1).detach()  # detach from history as input\n",
        "\n",
        "        decoder_outputs = torch.cat(decoder_outputs, dim=1)\n",
        "        decoder_outputs = F.log_softmax(decoder_outputs, dim=-1)\n",
        "        attentions = torch.cat(attentions, dim=1)\n",
        "\n",
        "        return decoder_outputs, decoder_hidden, attentions\n",
        "\n",
        "\n",
        "    def forward_step(self, input, hidden, encoder_outputs):\n",
        "        embedded =  self.dropout(self.embedding(input))\n",
        "\n",
        "        query = hidden.permute(1, 0, 2)\n",
        "        context, attn_weights = self.attention(query, encoder_outputs)\n",
        "        input_gru = torch.cat((embedded, context), dim=2)\n",
        "\n",
        "        output, hidden = self.gru(input_gru, hidden)\n",
        "        output = self.out(output)\n",
        "\n",
        "        return output, hidden, attn_weights"
      ],
      "metadata": {
        "id": "u4rBQtBj5OXf"
      },
      "execution_count": null,
      "outputs": []
    },
    {
      "cell_type": "code",
      "source": [
        "def indexesFromSentence(lang, sentence):\n",
        "    return [lang.word2index[word] for word in sentence.split(' ')]\n",
        "\n",
        "def tensorFromSentence(lang, sentence):\n",
        "    indexes = indexesFromSentence(lang, sentence)\n",
        "    indexes.append(EOS_token)\n",
        "    return torch.tensor(indexes, dtype=torch.long, device=device).view(1, -1)\n",
        "\n",
        "def tensorsFromPair(pair):\n",
        "    input_tensor = tensorFromSentence(input_lang, pair[0])\n",
        "    target_tensor = tensorFromSentence(output_lang, pair[1])\n",
        "    return (input_tensor, target_tensor)\n",
        "\n",
        "def pad_sequence(seq, max_length, padding_value=0):\n",
        "    return seq + [padding_value] * (max_length - len(seq)) if len(seq) < max_length else seq[:max_length]\n",
        "\n",
        "def get_dataloader(df, batch_size):\n",
        "    input_lang, output_lang, pairs = prepareData(df, 'korean', 'hanja', True)\n",
        "\n",
        "    n = len(pairs)\n",
        "    input_ids = np.zeros((n, MAX_LENGTH), dtype=np.int32)\n",
        "    target_ids = np.zeros((n, MAX_LENGTH), dtype=np.int32)\n",
        "\n",
        "    for idx, (inp, tgt) in enumerate(pairs):\n",
        "        inp_ids = indexesFromSentence(input_lang, inp)\n",
        "        tgt_ids = indexesFromSentence(output_lang, tgt)\n",
        "        inp_ids = pad_sequence(inp_ids, MAX_LENGTH, EOS_token)\n",
        "        tgt_ids = pad_sequence(tgt_ids, MAX_LENGTH, EOS_token)\n",
        "        input_ids[idx, :] = inp_ids\n",
        "        target_ids[idx, :] = tgt_ids\n",
        "\n",
        "    train_data = TensorDataset(torch.LongTensor(input_ids).to(device),\n",
        "                               torch.LongTensor(target_ids).to(device))\n",
        "\n",
        "    train_sampler = RandomSampler(train_data)\n",
        "    train_dataloader = DataLoader(train_data, sampler=train_sampler, batch_size=batch_size)\n",
        "    return input_lang, output_lang, train_dataloader"
      ],
      "metadata": {
        "id": "nsHV5x9v17p9"
      },
      "execution_count": null,
      "outputs": []
    },
    {
      "cell_type": "code",
      "source": [
        "def train_epoch(dataloader, encoder, decoder, encoder_optimizer,\n",
        "          decoder_optimizer, criterion):\n",
        "\n",
        "    total_loss = 0\n",
        "    for data in dataloader:\n",
        "        input_tensor, target_tensor = data\n",
        "\n",
        "        encoder_optimizer.zero_grad()\n",
        "        decoder_optimizer.zero_grad()\n",
        "\n",
        "        encoder_outputs, encoder_hidden = encoder(input_tensor)\n",
        "        decoder_outputs, _, _ = decoder(encoder_outputs, encoder_hidden, target_tensor)\n",
        "\n",
        "        loss = criterion(\n",
        "            decoder_outputs.view(-1, decoder_outputs.size(-1)),\n",
        "            target_tensor.view(-1)\n",
        "        )\n",
        "        loss.backward()\n",
        "\n",
        "        encoder_optimizer.step()\n",
        "        decoder_optimizer.step()\n",
        "\n",
        "        total_loss += loss.item()\n",
        "\n",
        "    return total_loss / len(dataloader)"
      ],
      "metadata": {
        "id": "mL9XorYL2edp"
      },
      "execution_count": null,
      "outputs": []
    },
    {
      "cell_type": "code",
      "source": [
        "import time\n",
        "import math\n",
        "\n",
        "def asMinutes(s):\n",
        "    m = math.floor(s / 60)\n",
        "    s -= m * 60\n",
        "    return '%dm %ds' % (m, s)\n",
        "\n",
        "def timeSince(since, percent):\n",
        "    now = time.time()\n",
        "    s = now - since\n",
        "    es = s / (percent)\n",
        "    rs = es - s\n",
        "    return '%s (- %s)' % (asMinutes(s), asMinutes(rs))"
      ],
      "metadata": {
        "id": "ORV1JVK32sLA"
      },
      "execution_count": null,
      "outputs": []
    },
    {
      "cell_type": "code",
      "source": [
        "def train(train_dataloader, encoder, decoder, n_epochs, learning_rate=0.001,\n",
        "               print_every=100, plot_every=100):\n",
        "    start = time.time()\n",
        "    plot_losses = []\n",
        "    print_loss_total = 0  # Reset every print_every\n",
        "    plot_loss_total = 0  # Reset every plot_every\n",
        "\n",
        "    encoder_optimizer = optim.Adam(encoder.parameters(), lr=learning_rate)\n",
        "    decoder_optimizer = optim.Adam(decoder.parameters(), lr=learning_rate)\n",
        "    criterion = nn.NLLLoss()\n",
        "\n",
        "    for epoch in range(1, n_epochs + 1):\n",
        "        loss = train_epoch(train_dataloader, encoder, decoder, encoder_optimizer, decoder_optimizer, criterion)\n",
        "        print_loss_total += loss\n",
        "        plot_loss_total += loss\n",
        "\n",
        "        if epoch % print_every == 0:\n",
        "            print_loss_avg = print_loss_total / print_every\n",
        "            print_loss_total = 0\n",
        "            print('%s (%d %d%%) %.4f' % (timeSince(start, epoch / n_epochs),\n",
        "                                        epoch, epoch / n_epochs * 100, print_loss_avg))\n",
        "\n",
        "        if epoch % plot_every == 0:\n",
        "            plot_loss_avg = plot_loss_total / plot_every\n",
        "            plot_losses.append(plot_loss_avg)\n",
        "            plot_loss_total = 0\n",
        "\n",
        "    showPlot(plot_losses)"
      ],
      "metadata": {
        "id": "S4Itn_dT2u-l"
      },
      "execution_count": null,
      "outputs": []
    },
    {
      "cell_type": "code",
      "source": [
        "import matplotlib.pyplot as plt\n",
        "plt.switch_backend('agg')\n",
        "import matplotlib.ticker as ticker\n",
        "import numpy as np\n",
        "\n",
        "def showPlot(points):\n",
        "    plt.figure()\n",
        "    fig, ax = plt.subplots()\n",
        "    # this locator puts ticks at regular intervals\n",
        "    loc = ticker.MultipleLocator(base=0.2)\n",
        "    ax.yaxis.set_major_locator(loc)\n",
        "    plt.plot(points)"
      ],
      "metadata": {
        "id": "nhF4EYtaNrhQ"
      },
      "execution_count": null,
      "outputs": []
    },
    {
      "cell_type": "code",
      "source": [
        "def evaluate(encoder, decoder, sentence, input_lang, output_lang):\n",
        "    with torch.no_grad():\n",
        "        input_tensor = tensorFromSentence(input_lang, sentence)\n",
        "\n",
        "        encoder_outputs, encoder_hidden = encoder(input_tensor)\n",
        "        decoder_outputs, decoder_hidden, decoder_attn = decoder(encoder_outputs, encoder_hidden)\n",
        "\n",
        "        _, topi = decoder_outputs.topk(1)\n",
        "        decoded_ids = topi.squeeze()\n",
        "\n",
        "        decoded_words = []\n",
        "        for idx in decoded_ids:\n",
        "            if idx.item() == EOS_token:\n",
        "                decoded_words.append('<EOS>')\n",
        "                break\n",
        "            decoded_words.append(output_lang.index2word[idx.item()])\n",
        "    return decoded_words, decoder_attn"
      ],
      "metadata": {
        "id": "3c6zYdgt2ylE"
      },
      "execution_count": null,
      "outputs": []
    },
    {
      "cell_type": "code",
      "source": [
        "from sklearn.model_selection import train_test_split\n",
        "\n",
        "# 데이터프레임에서 훈련 및 테스트 세트를 생성합니다.\n",
        "train_df, test_df = train_test_split(df, test_size=0.1, random_state=42)"
      ],
      "metadata": {
        "id": "HHs1uiwDTA7Q"
      },
      "execution_count": null,
      "outputs": []
    },
    {
      "cell_type": "code",
      "source": [
        "def evaluateRandomly(encoder, decoder, n=10):\n",
        "    for i in range(n):\n",
        "        pair = random.choice(pairs)\n",
        "        print('>', pair[0])\n",
        "        print('=', pair[1])\n",
        "        output_words, _ = evaluate(encoder, decoder, pair[0], input_lang, output_lang)\n",
        "        output_sentence = ' '.join(output_words)\n",
        "        print('<', output_sentence)\n",
        "        print('')"
      ],
      "metadata": {
        "id": "c43gmdnn4q9U"
      },
      "execution_count": null,
      "outputs": []
    },
    {
      "cell_type": "code",
      "source": [
        "%matplotlib inline\n",
        "\n",
        "hidden_size = 128\n",
        "batch_size = 32\n",
        "\n",
        "# 훈련 및 테스트 데이터 로더를 가져옵니다.\n",
        "train_input_lang, train_output_lang, train_dataloader = get_dataloader(train_df, batch_size) # train_df 사용\n",
        "test_input_lang, test_output_lang, test_dataloader = get_dataloader(test_df, batch_size) # test_df 사용\n",
        "\n",
        "encoder = EncoderRNN(train_input_lang.n_words, hidden_size).to(device) # train_input_lang 사용\n",
        "decoder = AttnDecoderRNN(hidden_size, train_output_lang.n_words).to(device) # train_output_lang 사용\n",
        "\n",
        "# 훈련 데이터 로더를 사용하여 모델 훈련\n",
        "train(train_dataloader, encoder, decoder, 80, print_every=5, plot_every=5)"
      ],
      "metadata": {
        "colab": {
          "base_uri": "https://localhost:8080/",
          "height": 995
        },
        "id": "LSO0YL2F5hkg",
        "outputId": "b057b7d5-8148-4964-9839-76c263a77c4b"
      },
      "execution_count": null,
      "outputs": [
        {
          "output_type": "stream",
          "name": "stdout",
          "text": [
            "Reading lines from DataFrame...\n",
            "Read 919945 sentence pairs\n",
            "Trimmed to 18133 sentence pairs\n",
            "Counting words...\n",
            "Counted words:\n",
            "hanja 402\n",
            "korean 517\n",
            "Reading lines from DataFrame...\n",
            "Read 102217 sentence pairs\n",
            "Trimmed to 1958 sentence pairs\n",
            "Counting words...\n",
            "Counted words:\n",
            "hanja 177\n",
            "korean 181\n",
            "1m 54s (- 28m 37s) (5 6%) 0.2122\n",
            "3m 43s (- 26m 1s) (10 12%) 0.0725\n",
            "5m 41s (- 24m 38s) (15 18%) 0.0634\n",
            "7m 31s (- 22m 34s) (20 25%) 0.0589\n",
            "9m 17s (- 20m 25s) (25 31%) 0.0564\n",
            "11m 10s (- 18m 37s) (30 37%) 0.0550\n",
            "12m 57s (- 16m 39s) (35 43%) 0.0541\n",
            "14m 41s (- 14m 41s) (40 50%) 0.0535\n",
            "16m 23s (- 12m 44s) (45 56%) 0.0530\n",
            "18m 5s (- 10m 51s) (50 62%) 0.0528\n",
            "19m 50s (- 9m 1s) (55 68%) 0.0525\n",
            "21m 34s (- 7m 11s) (60 75%) 0.0525\n",
            "23m 17s (- 5m 22s) (65 81%) 0.0522\n",
            "25m 0s (- 3m 34s) (70 87%) 0.0521\n",
            "26m 43s (- 1m 46s) (75 93%) 0.0522\n",
            "28m 26s (- 0m 0s) (80 100%) 0.0520\n"
          ]
        },
        {
          "output_type": "display_data",
          "data": {
            "text/plain": [
              "<Figure size 640x480 with 0 Axes>"
            ]
          },
          "metadata": {}
        },
        {
          "output_type": "display_data",
          "data": {
            "text/plain": [
              "<Figure size 640x480 with 1 Axes>"
            ],
            "image/png": "[encoded data removed]"
          },
          "metadata": {}
        }
      ]
    },
    {
      "cell_type": "code",
      "source": [
        "encoder.eval()\n",
        "decoder.eval()\n",
        "evaluateRandomly(encoder, decoder)"
      ],
      "metadata": {
        "id": "4pVt42Ry5lac",
        "colab": {
          "base_uri": "https://localhost:8080/"
        },
        "outputId": "64bb5267-f687-4a16-9e18-4ab4f8ae7ac2"
      },
      "execution_count": null,
      "outputs": [
        {
          "output_type": "stream",
          "name": "stdout",
          "text": [
            "> 召 對\n",
            "= 소대 하였다\n",
            "< 행주 017 하였다 인정전 <EOS>\n",
            "\n",
            "> 御 夕 講\n",
            "= 석 강 에 나아갔다\n",
            "< 주강 에 나아갔다 우박 <EOS>\n",
            "\n",
            "> 庚 寅 氷\n",
            "= 얼음 이 얼었다\n",
            "< 가 큰 청나라 <EOS>\n",
            "\n",
            "> 壬 寅 視 事\n",
            "= 정사 를 보았다\n",
            "< 머물렀다 나아갔다 삼전 <EOS>\n",
            "\n",
            "> 己 巳 召 對\n",
            "= 소대 하였다\n",
            "< 321 잠시 광주 <EOS>\n",
            "\n",
            "> 有 政\n",
            "= 정사 가 있었다\n",
            "< 불었다 돌아갔다 <EOS>\n",
            "\n",
            "> 別 講\n",
            "= 별 강하였다\n",
            "< 청 나아갔다 우박 <EOS>\n",
            "\n",
            "> 夕 講\n",
            "= 석 강하였다\n",
            "< 행주 하였다 박천군 <EOS>\n",
            "\n",
            "> 御 夕 講\n",
            "= 석 강 에 나아갔다\n",
            "< 주강 에 나아갔다 우박 <EOS>\n",
            "\n",
            "> 召 對\n",
            "= 소대 를 행 하였다\n",
            "< 행주 017 하였다 인정전 <EOS>\n",
            "\n"
          ]
        }
      ]
    },
    {
      "cell_type": "code",
      "source": [
        "!sudo apt-get install -y fonts-nanum\n",
        "!sudo fc-cache -fv\n",
        "!rm ~/.cache/matplotlib -rf"
      ],
      "metadata": {
        "id": "14W7gzvY7aXI",
        "colab": {
          "base_uri": "https://localhost:8080/"
        },
        "outputId": "ab98e6db-419f-4210-c895-1ce4fc1a15b5"
      },
      "execution_count": null,
      "outputs": [
        {
          "output_type": "stream",
          "name": "stdout",
          "text": [
            "Reading package lists... Done\n",
            "Building dependency tree... Done\n",
            "Reading state information... Done\n",
            "fonts-nanum is already the newest version (20200506-1).\n",
            "0 upgraded, 0 newly installed, 0 to remove and 45 not upgraded.\n",
            "/usr/share/fonts: caching, new cache contents: 0 fonts, 1 dirs\n",
            "/usr/share/fonts/truetype: caching, new cache contents: 0 fonts, 3 dirs\n",
            "/usr/share/fonts/truetype/humor-sans: caching, new cache contents: 1 fonts, 0 dirs\n",
            "/usr/share/fonts/truetype/liberation: caching, new cache contents: 16 fonts, 0 dirs\n",
            "/usr/share/fonts/truetype/nanum: caching, new cache contents: 12 fonts, 0 dirs\n",
            "/usr/local/share/fonts: caching, new cache contents: 0 fonts, 0 dirs\n",
            "/root/.local/share/fonts: skipping, no such directory\n",
            "/root/.fonts: skipping, no such directory\n",
            "/usr/share/fonts/truetype: skipping, looped directory detected\n",
            "/usr/share/fonts/truetype/humor-sans: skipping, looped directory detected\n",
            "/usr/share/fonts/truetype/liberation: skipping, looped directory detected\n",
            "/usr/share/fonts/truetype/nanum: skipping, looped directory detected\n",
            "/var/cache/fontconfig: cleaning cache directory\n",
            "/root/.cache/fontconfig: not cleaning non-existent cache directory\n",
            "/root/.fontconfig: not cleaning non-existent cache directory\n",
            "fc-cache: succeeded\n"
          ]
        }
      ]
    },
    {
      "cell_type": "code",
      "source": [
        "import matplotlib.font_manager as fm\n",
        "import seaborn as sns\n",
        "import matplotlib.pyplot as plt\n",
        "\n",
        "plt.rc('font', family='NanumBarunGothic')\n",
        "plt.rcParams['axes.unicode_minus'] =False"
      ],
      "metadata": {
        "id": "N8-wHjCKEi_v"
      },
      "execution_count": null,
      "outputs": []
    },
    {
      "cell_type": "code",
      "source": [
        "%matplotlib inline\n",
        "\n",
        "def showAttention(input_sentence, output_words, attentions):\n",
        "    fig = plt.figure()\n",
        "    ax = fig.add_subplot(111)\n",
        "    cax = ax.matshow(attentions.cpu().numpy(), cmap='bone')\n",
        "    fig.colorbar(cax)\n",
        "\n",
        "    # Set up axes\n",
        "    ax.set_xticklabels([''] + input_sentence.split(' ') +\n",
        "                       ['<EOS>'], rotation=90)\n",
        "    ax.set_yticklabels([''] + output_words)\n",
        "\n",
        "    # Show label at every tick\n",
        "    ax.xaxis.set_major_locator(ticker.MultipleLocator(1))\n",
        "    ax.yaxis.set_major_locator(ticker.MultipleLocator(1))\n",
        "\n",
        "    plt.show()\n",
        "\n",
        "\n",
        "def evaluateAndShowAttention(input_sentence):\n",
        "    output_words, attentions = evaluate(encoder, decoder, input_sentence, input_lang, output_lang)\n",
        "    print('input =', input_sentence)\n",
        "    print('output =', ' '.join(output_words))\n",
        "    showAttention(input_sentence, output_words, attentions[0, :len(output_words), :])\n",
        "\n",
        "\n",
        "evaluateAndShowAttention(test_df.iloc[6,0])"
      ],
      "metadata": {
        "id": "PcIehg-bEXwA",
        "colab": {
          "base_uri": "https://localhost:8080/",
          "height": 521
        },
        "outputId": "a6951e56-a91b-4c0d-c60d-bf32e2de2f27"
      },
      "execution_count": null,
      "outputs": [
        {
          "output_type": "stream",
          "name": "stdout",
          "text": [
            "input = 丙 子 日 有 重 暈\n",
            "output = 불었다 큰 월식 돌아갔다 <EOS>\n"
          ]
        },
        {
          "output_type": "stream",
          "name": "stderr",
          "text": [
            "<ipython-input-47-90c5e6256444>:10: UserWarning: FixedFormatter should only be used together with FixedLocator\n",
            "  ax.set_xticklabels([''] + input_sentence.split(' ') +\n",
            "<ipython-input-47-90c5e6256444>:12: UserWarning: FixedFormatter should only be used together with FixedLocator\n",
            "  ax.set_yticklabels([''] + output_words)\n"
          ]
        },
        {
          "output_type": "display_data",
          "data": {
            "text/plain": [
              "<Figure size 640x480 with 2 Axes>"
            ],
            "image/png": "[encoded data removed]"
          },
          "metadata": {}
        }
      ]
    },
    {
      "cell_type": "markdown",
      "source": [
        "비지도학습"
      ],
      "metadata": {
        "id": "nCCtDRiaHvq8"
      }
    },
    {
      "cell_type": "code",
      "source": [
        "import os\n",
        "import pandas as pd\n",
        "\n",
        "# 경로 설정\n",
        "path = '/content/drive/MyDrive/hanja_korean_dataset/token'\n",
        "\n",
        "# 폴더 내 모든 parquet 파일 불러오기\n",
        "parquet_files = [file for file in os.listdir(path) if file.endswith('.parquet')]\n",
        "\n",
        "# 데이터프레임 리스트 초기화\n",
        "dfs = []\n",
        "\n",
        "# 각 parquet 파일을 데이터프레임으로 읽어서 리스트에 추가\n",
        "for file in parquet_files:\n",
        "    file_path = os.path.join(path, file)\n",
        "    df = pd.read_parquet(file_path)\n",
        "    dfs.append(df)\n",
        "\n",
        "# 모든 데이터프레임을 하나로 합치기\n",
        "merged_df = pd.concat(dfs, ignore_index=True)"
      ],
      "metadata": {
        "id": "2VWFz7hjH3iF"
      },
      "execution_count": null,
      "outputs": []
    },
    {
      "cell_type": "code",
      "source": [
        "df = merged_df\n",
        "print(df)"
      ],
      "metadata": {
        "colab": {
          "base_uri": "https://localhost:8080/"
        },
        "id": "x4-iLAYFH8HA",
        "outputId": "76c36b29-f9de-4a23-a45c-a33facf3ee8d"
      },
      "execution_count": null,
      "outputs": [
        {
          "output_type": "stream",
          "name": "stdout",
          "text": [
            "                                                     hanja  \\\n",
            "0        [兵, 批, 參, 議, 崔, 尙, 儒, 進, 以, 韓, 啓, 宇, 爲, 盆, 山, ...   \n",
            "1        [吏, 曹, 啓, 目, 前, 五, 衛, 將, 朴, 枝, 藩, 名, 字, 改, 以, ...   \n",
            "2                           [上, 在, 景, 福, 宮, 停, 常, 參, 經, 筵]   \n",
            "3        [奎, 章, 閣, 啓, 曰, 檢, 書, 官, 李, 冕, 翼, 有, 身, 病, 勢, ...   \n",
            "4        [禮, 曹, 啓, 曰, 郊, 壇, 四, 孟, 朔, 遣, 禮, 郞, 看, 審, 有, ...   \n",
            "...                                                    ...   \n",
            "1022157  [義, 禁, 府, 啓, 曰, 戊, 子, 十, 一, 月, 二, 十, 二, 日, 前, ...   \n",
            "1022158                     [上, 在, 昌, 德, 宮, 停, 常, 參, 經, 筵]   \n",
            "1022159   [申, 時, 太, 白, 見, 於, 未, 地, 夜, 一, 更, 至, 四, 更, 月, 暈]   \n",
            "1022160  [大, 司, 憲, 金, 南, 重, 執, 義, 柳, 慶, 昌, 掌, 令, 申, 悅, ...   \n",
            "1022161  [政, 院, 啓, 曰, 勅, 使, 接, 見, 時, 酬, 酢, 說, 話, 依, 前, ...   \n",
            "\n",
            "                                                    korean  \n",
            "0        [병비, 에, 참의, 최상, 유, 는, 나왔다, 한계, 우, 를, 분산, 별장, 으...  \n",
            "1        [이조, 계목, 에전, 오, 위장, 박지, 번, 이, 이름, 을, 형진, 으로, 출...  \n",
            "2                 [상이, 경복궁, 에, 있었다, 상, 참과, 경연, 을, 정지, 하였다]  \n",
            "3        [규장각, 이, 아뢰, 기를, 검, 서관, 이면, 익, 이, 신병이, 있어서, 직임...  \n",
            "4        [예조, 가, 아뢰, 기를, 교단, 에, 사맹삭, 마다, 예조, 낭청, 을, 보내어...  \n",
            "...                                                    ...  \n",
            "1022157  [의금부, 가, 아뢰, 기를, 무자년, 1648, 인조, 26, 11월, 22일, ...  \n",
            "1022158           [상이, 창덕궁, 에, 있었다, 상, 참과, 경연, 을, 정지, 하였다]  \n",
            "1022159  [신시, 에, 태백성, 이, 미지, 에, 나타났다, 밤, 1, 경, 부터, 4, 경...  \n",
            "1022160  [대사헌, 김남중, 집의, 유경, 창, 장령, 신열, 도, ㆍ, 신속, 지평, 이수...  \n",
            "1022161  [비변사, 가, 아뢰, 기를, 정원, 이, 아뢰, 기를, 칙사, 를, 접견, 하실,...  \n",
            "\n",
            "[1022162 rows x 2 columns]\n"
          ]
        }
      ]
    },
    {
      "cell_type": "code",
      "source": [
        "from sklearn.feature_extraction.text import TfidfVectorizer\n",
        "from tqdm import tqdm\n",
        "\n",
        "print(\"토큰화된 데이터를 문자열로 변환 중...\")\n",
        "# 리스트 형태의 토큰을 공백으로 연결하여 하나의 문자열로 변환\n",
        "df['processed_text'] = df['korean'].apply(lambda x: ' '.join(x))\n",
        "\n",
        "# TF-IDF 벡터라이저 초기화\n",
        "tfidf_vectorizer = TfidfVectorizer(min_df=1, max_df=0.95, stop_words=None)\n",
        "\n",
        "# TF-IDF 행렬 생성\n",
        "tfidf_matrix = tfidf_vectorizer.fit_transform(df['processed_text'])\n",
        "\n",
        "print(f\"TF-IDF 행렬의 크기: {tfidf_matrix.shape}\")"
      ],
      "metadata": {
        "colab": {
          "base_uri": "https://localhost:8080/"
        },
        "id": "z73yU8gesAEy",
        "outputId": "61c1cad0-e6bf-43a4-a3da-00453adc06fa"
      },
      "execution_count": null,
      "outputs": [
        {
          "output_type": "stream",
          "name": "stdout",
          "text": [
            "토큰화된 데이터를 문자열로 변환 중...\n",
            "TF-IDF 행렬의 크기: (1022162, 346378)\n"
          ]
        }
      ]
    },
    {
      "cell_type": "code",
      "source": [
        "from sklearn.metrics.pairwise import cosine_similarity\n",
        "from sklearn.cluster import KMeans\n",
        "import numpy as np\n",
        "\n",
        "# 샘플링할 문서 수\n",
        "sample_size = 10000\n",
        "\n",
        "# TF-IDF 행렬에서 샘플 추출\n",
        "sample_indices = np.random.choice(tfidf_matrix.shape[0], sample_size, replace=False)\n",
        "sample_matrix = tfidf_matrix[sample_indices]"
      ],
      "metadata": {
        "id": "d-LV8SUFhGre"
      },
      "execution_count": null,
      "outputs": []
    },
    {
      "cell_type": "code",
      "source": [
        "# 샘플 문서 간 유사도 계산\n",
        "sample_similarity_matrix = cosine_similarity(sample_matrix)\n",
        "\n",
        "# 상위 5개 문서 간의 유사도 (예: 첫 5문서 간 유사도)\n",
        "print(sample_similarity_matrix[:5, :5])"
      ],
      "metadata": {
        "colab": {
          "base_uri": "https://localhost:8080/"
        },
        "id": "DLJlGlBwdx2M",
        "outputId": "84463fb9-3c08-43a9-a1a0-f31ec0d5ccd4"
      },
      "execution_count": null,
      "outputs": [
        {
          "output_type": "stream",
          "name": "stdout",
          "text": [
            "[[1.         0.04872314 0.04497555 0.01289764 0.00922311]\n",
            " [0.04872314 1.         0.11641303 0.0448963  0.00913705]\n",
            " [0.04497555 0.11641303 1.         0.01179451 0.00843426]\n",
            " [0.01289764 0.0448963  0.01179451 1.         0.00747182]\n",
            " [0.00922311 0.00913705 0.00843426 0.00747182 1.        ]]\n"
          ]
        }
      ]
    },
    {
      "cell_type": "code",
      "source": [
        "# K-means 클러스터링\n",
        "num_clusters = 5  # 군집의 수를 설정합니다.\n",
        "kmeans = KMeans(n_clusters=num_clusters, random_state=42)\n",
        "kmeans.fit(sample_matrix)\n",
        "\n",
        "# 각 문서의 군집 레이블\n",
        "cluster_labels = kmeans.labels_\n",
        "\n",
        "# 군집 중심 (각 군집의 중심 벡터)\n",
        "cluster_centers = kmeans.cluster_centers_\n",
        "\n",
        "print(\"Cluster labels for the first 10 documents:\", cluster_labels[:10])"
      ],
      "metadata": {
        "colab": {
          "base_uri": "https://localhost:8080/"
        },
        "id": "g2LMDRrMheKj",
        "outputId": "d5e0244d-77d8-46a1-e654-6fb27fb306bc"
      },
      "execution_count": null,
      "outputs": [
        {
          "output_type": "stream",
          "name": "stderr",
          "text": [
            "/usr/local/lib/python3.10/dist-packages/sklearn/cluster/_kmeans.py:1416: FutureWarning: The default value of `n_init` will change from 10 to 'auto' in 1.4. Set the value of `n_init` explicitly to suppress the warning\n",
            "  super()._check_params_vs_input(X, default_n_init=10)\n"
          ]
        },
        {
          "output_type": "stream",
          "name": "stdout",
          "text": [
            "Cluster labels for the first 10 documents: [3 3 3 1 2 4 3 4 4 4]\n"
          ]
        }
      ]
    },
    {
      "cell_type": "code",
      "source": [
        "# 주요 단어 추출 함수 정의\n",
        "def get_top_words_for_cluster(tfidf_matrix, cluster_labels, kmeans_model, feature_names, num_words=10):\n",
        "    top_words = []\n",
        "    for i in range(len(set(cluster_labels))):\n",
        "        cluster_center = kmeans_model.cluster_centers_[i]\n",
        "        top_indices = cluster_center.argsort()[-num_words:][::-1]\n",
        "        top_words.append([feature_names[j] for j in top_indices])\n",
        "    return top_words\n",
        "\n",
        "# TF-IDF 벡터라이저에서 feature_names 추출\n",
        "feature_names = tfidf_vectorizer.get_feature_names_out()\n",
        "\n",
        "# 주요 단어 추출\n",
        "top_words_per_cluster = get_top_words_for_cluster(sample_matrix, cluster_labels, kmeans, feature_names)\n",
        "print(\"Top words per cluster:\", top_words_per_cluster)"
      ],
      "metadata": {
        "colab": {
          "base_uri": "https://localhost:8080/"
        },
        "id": "8IiT_3kshhB1",
        "outputId": "10fc55c9-f520-4221-b198-0bd3c7f2ac15"
      },
      "execution_count": null,
      "outputs": [
        {
          "output_type": "stream",
          "name": "stdout",
          "text": [
            "Top words per cluster: [['전망', '단자', '들이니', '들이라', '낙점', '하였다', '할지', '전교', '승지', '차하'], ['소대', '전지', '나오지', '추고만', '파직', '관련', '패초', '대한', '않은', '하였다'], ['있었다', '참과', '상이', '정지', '경연', '창덕궁', '창경궁', '하였다', '경복궁', '경덕궁'], ['하니', '전교', '아뢰', '기를', '알았다고', '하였다', '한다고', '패초', '어떻겠습니까', '윤허'], ['으로', '하였다', '하여', '하기를', '하고', '에서', '하는', '에게', '하지', '전교']]\n"
          ]
        }
      ]
    }
  ]
}